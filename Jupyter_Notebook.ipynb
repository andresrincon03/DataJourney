{
 "cells": [
  {
   "cell_type": "markdown",
   "metadata": {},
   "source": [
    "<center>\n",
    "    <img src=\"https://cf-courses-data.s3.us.cloud-object-storage.appdomain.cloud/IBMDeveloperSkillsNetwork-DS0105EN-SkillsNetwork/labs/Module2/images/SN_web_lightmode.png\" width=\"300\" alt=\"cognitiveclass.ai logo\"  />\n",
    "</center>\n"
   ]
  },
  {
   "cell_type": "markdown",
   "metadata": {
    "jp-MarkdownHeadingCollapsed": true,
    "tags": []
   },
   "source": [
    "# My Jupyter Notebook on IBM Watson Studio"
   ]
  },
  {
   "cell_type": "markdown",
   "metadata": {},
   "source": [
    "**Andres Rincon**\n",
    "###### Want to be a Data Analsyt"
   ]
  },
  {
   "cell_type": "markdown",
   "metadata": {},
   "source": [
    "*I am interested in data science because on my Internship I had the opportunity to work with excel and power BI, this stage of the life helped me to realize that I like to play with data and visualizations*"
   ]
  },
  {
   "cell_type": "markdown",
   "metadata": {},
   "source": [
    "### The code below will ask you for side A and B of a rectangle and will find the area:"
   ]
  },
  {
   "cell_type": "code",
   "execution_count": 8,
   "metadata": {},
   "outputs": [
    {
     "name": "stdin",
     "output_type": "stream",
     "text": [
      "Side A: 6\n",
      "Side B: 4\n"
     ]
    },
    {
     "name": "stdout",
     "output_type": "stream",
     "text": [
      " Rectangle area is:  24\n"
     ]
    }
   ],
   "source": [
    "a=int(input(\"Side A:\"))\n",
    "b=int(input(\"Side B:\"))\n",
    "area=a*b\n",
    "print(\" Rectangle area is: \",area)"
   ]
  },
  {
   "cell_type": "markdown",
   "metadata": {},
   "source": [
    "### List:\n",
    "1. First item\n",
    "2. Second item\n",
    "3. And another item.\n",
    "\n",
    "\n",
    "\n",
    "### Unordered list:\n",
    "* First item\n",
    "* Second item\n",
    "* And another item.\n",
    "\n",
    "\n",
    "\n",
    "### Images:\n",
    "\n",
    "Coursera logo:\n",
    "\n",
    "![alt text](https://www.google.com/url?sa=i&url=https%3A%2F%2Fes.wikipedia.org%2Fwiki%2FArchivo%3ACoursera-Logo_600x600.svg&psig=AOvVaw0ykalIMSG20hMSepSv3gpI&ust=1671073235442000&source=images&cd=vfe&ved=0CBAQjRxqFwoTCKim_4aP-PsCFQAAAAAdAAAAABAE \"Logo Title Text 1\")\n"
   ]
  },
  {
   "cell_type": "code",
   "execution_count": null,
   "metadata": {},
   "outputs": [],
   "source": []
  },
  {
   "cell_type": "code",
   "execution_count": null,
   "metadata": {},
   "outputs": [],
   "source": []
  }
 ],
 "metadata": {
  "kernelspec": {
   "display_name": "Python",
   "language": "python",
   "name": "conda-env-python-py"
  },
  "language_info": {
   "codemirror_mode": {
    "name": "ipython",
    "version": 3
   },
   "file_extension": ".py",
   "mimetype": "text/x-python",
   "name": "python",
   "nbconvert_exporter": "python",
   "pygments_lexer": "ipython3",
   "version": "3.7.12"
  }
 },
 "nbformat": 4,
 "nbformat_minor": 4
}
